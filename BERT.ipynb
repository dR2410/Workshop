{
 "cells": [
  {
   "cell_type": "code",
   "execution_count": 1,
   "id": "598d406b",
   "metadata": {},
   "outputs": [
    {
     "name": "stderr",
     "output_type": "stream",
     "text": [
      "C:\\Users\\Rahul\\bert_env\\lib\\site-packages\\tqdm\\auto.py:22: TqdmWarning: IProgress not found. Please update jupyter and ipywidgets. See https://ipywidgets.readthedocs.io/en/stable/user_install.html\n",
      "  from .autonotebook import tqdm as notebook_tqdm\n"
     ]
    }
   ],
   "source": [
    "#bert_env\\Scripts\\activate.bat \n",
    "import torch\n",
    "import random\n",
    "import numpy as np"
   ]
  },
  {
   "cell_type": "code",
   "execution_count": 2,
   "id": "30d6f1e1",
   "metadata": {},
   "outputs": [],
   "source": [
    "seed=10\n",
    "random.seed(seed)\n",
    "torch.manual_seed(seed)\n",
    "torch.backends.cudnndeterministic=True"
   ]
  },
  {
   "cell_type": "code",
   "execution_count": 3,
   "id": "20632fc5",
   "metadata": {},
   "outputs": [],
   "source": [
    "#!pip install transformers"
   ]
  },
  {
   "cell_type": "code",
   "execution_count": 4,
   "id": "dc516b42",
   "metadata": {},
   "outputs": [],
   "source": [
    "from transformers import AutoTokenizer"
   ]
  },
  {
   "cell_type": "code",
   "execution_count": 5,
   "id": "b171fa33",
   "metadata": {},
   "outputs": [],
   "source": [
    "base_model='bert-base-uncased'\n",
    "tokenizer=AutoTokenizer.from_pretrained(base_model)"
   ]
  },
  {
   "cell_type": "code",
   "execution_count": 6,
   "id": "de61033b",
   "metadata": {},
   "outputs": [
    {
     "data": {
      "text/plain": [
       "30522"
      ]
     },
     "execution_count": 6,
     "metadata": {},
     "output_type": "execute_result"
    }
   ],
   "source": [
    "len(tokenizer.vocab)"
   ]
  },
  {
   "cell_type": "code",
   "execution_count": 7,
   "id": "472b1d2b",
   "metadata": {},
   "outputs": [
    {
     "name": "stdout",
     "output_type": "stream",
     "text": [
      "['welcome', 'to', 'workshop']\n"
     ]
    }
   ],
   "source": [
    "tokens=tokenizer.tokenize('Welcome to workshop')\n",
    "print(tokens)"
   ]
  },
  {
   "cell_type": "code",
   "execution_count": 8,
   "id": "a0ccd290",
   "metadata": {},
   "outputs": [
    {
     "name": "stdout",
     "output_type": "stream",
     "text": [
      "[6160, 2000, 8395]\n"
     ]
    }
   ],
   "source": [
    "indexes=tokenizer.convert_tokens_to_ids(tokens)\n",
    "print(indexes)"
   ]
  },
  {
   "cell_type": "code",
   "execution_count": 9,
   "id": "1821275e",
   "metadata": {},
   "outputs": [
    {
     "name": "stdout",
     "output_type": "stream",
     "text": [
      "[CLS] [SEP] [PAD] [UNK]\n"
     ]
    }
   ],
   "source": [
    "init_token = tokenizer.cls_token\n",
    "eos_token = tokenizer.sep_token\n",
    "pad_token = tokenizer.pad_token\n",
    "unk_token = tokenizer.unk_token\n",
    "\n",
    "print(init_token, eos_token, pad_token, unk_token)"
   ]
  },
  {
   "cell_type": "code",
   "execution_count": 10,
   "id": "d41a25c2",
   "metadata": {},
   "outputs": [],
   "source": [
    "init_token_idx = tokenizer.convert_tokens_to_ids(init_token)\n",
    "eos_token_idx = tokenizer.convert_tokens_to_ids(eos_token)\n",
    "pad_token_idx = tokenizer.convert_tokens_to_ids(pad_token)\n",
    "unk_token_idx = tokenizer.convert_tokens_to_ids(unk_token)"
   ]
  },
  {
   "cell_type": "code",
   "execution_count": 11,
   "id": "524d0ba4",
   "metadata": {},
   "outputs": [
    {
     "name": "stdout",
     "output_type": "stream",
     "text": [
      "101 102 0 100\n"
     ]
    }
   ],
   "source": [
    "print(init_token_idx, eos_token_idx, pad_token_idx, unk_token_idx)"
   ]
  },
  {
   "cell_type": "code",
   "execution_count": 12,
   "id": "d2128df0",
   "metadata": {},
   "outputs": [
    {
     "name": "stdout",
     "output_type": "stream",
     "text": [
      "512\n"
     ]
    }
   ],
   "source": [
    "max_input_len = tokenizer.max_model_input_sizes[base_model]\n",
    "print(max_input_len)"
   ]
  },
  {
   "cell_type": "code",
   "execution_count": 13,
   "id": "4a6607e9",
   "metadata": {},
   "outputs": [],
   "source": [
    "max_input_length = 10"
   ]
  },
  {
   "cell_type": "code",
   "execution_count": 14,
   "id": "2ed86e0f",
   "metadata": {},
   "outputs": [],
   "source": [
    "def tokenize_and_cut(sentence):\n",
    "    tokens = tokenizer.tokenize(sentence)\n",
    "    tokens = tokens[:max_input_len - 2]\n",
    "    return tokens"
   ]
  },
  {
   "cell_type": "markdown",
   "id": "7453104a",
   "metadata": {},
   "source": [
    "## Data Collection"
   ]
  },
  {
   "cell_type": "code",
   "execution_count": 15,
   "id": "03a32e4f",
   "metadata": {},
   "outputs": [],
   "source": [
    "from torchtext import data\n",
    "\n",
    "text = data.Field(batch_first = True,\n",
    "                  use_vocab = False,\n",
    "                  tokenize = tokenize_and_cut,\n",
    "                  preprocessing = tokenizer.convert_tokens_to_ids,\n",
    "                  init_token = init_token_idx,\n",
    "                  eos_token = eos_token_idx,\n",
    "                  pad_token = pad_token_idx,\n",
    "                  unk_token = unk_token_idx)\n",
    "\n",
    "label = data.LabelField(dtype = torch.float)"
   ]
  },
  {
   "cell_type": "code",
   "execution_count": 17,
   "id": "dee2388e",
   "metadata": {},
   "outputs": [
    {
     "name": "stderr",
     "output_type": "stream",
     "text": [
      "Token indices sequence length is longer than the specified maximum sequence length for this model (557 > 512). Running this sequence through the model will result in indexing errors\n"
     ]
    }
   ],
   "source": [
    "from torchtext import datasets\n",
    "\n",
    "train_data, test_data = datasets.IMDB.splits(text, label)\n",
    "\n",
    "train_data, valid_data = train_data.split(random_state = random.seed(seed))"
   ]
  },
  {
   "cell_type": "code",
   "execution_count": 18,
   "id": "3bdcfe7a",
   "metadata": {},
   "outputs": [
    {
     "name": "stdout",
     "output_type": "stream",
     "text": [
      "Number of training examples: 17500\n",
      "Number of validation examples: 7500\n",
      "Number of testing examples: 25000\n"
     ]
    }
   ],
   "source": [
    "print(f\"Number of training examples: {len(train_data)}\")\n",
    "print(f\"Number of validation examples: {len(valid_data)}\")\n",
    "print(f\"Number of testing examples: {len(test_data)}\")"
   ]
  },
  {
   "cell_type": "code",
   "execution_count": 19,
   "id": "615917f5",
   "metadata": {},
   "outputs": [
    {
     "name": "stdout",
     "output_type": "stream",
     "text": [
      "{'text': [2061, 1010, 2067, 2043, 12810, 2666, 2081, 2010, 2034, 3311, 1010, 1045, 2001, 6669, 3407, 3666, 4670, 3557, 14757, 2185, 1012, 1045, 2069, 2359, 2000, 2022, 21474, 2005, 1037, 2261, 2847, 1998, 4521, 15241, 12136, 2098, 24593, 1012, 2085, 1010, 6854, 1010, 1045, 2031, 10908, 1997, 1037, 15544, 19510, 2075, 1013, 26380, 2466, 7188, 1045, 3422, 1037, 3185, 1010, 2065, 1045, 1005, 1049, 2025, 2006, 2070, 4066, 1997, 14667, 1012, 1998, 2023, 2003, 2178, 2204, 3185, 2005, 1996, 19960, 17872, 1012, 2045, 2024, 2053, 2350, 11680, 1010, 2053, 3375, 5436, 3210, 1010, 2053, 3697, 21438, 1012, 12810, 2666, 3929, 8209, 2003, 2307, 2005, 1996, 3929, 8209, 1012, 1026, 7987, 1013, 1028, 1026, 7987, 1013, 1028, 2023, 2001, 1996, 2034, 2051, 1045, 2018, 2464, 2474, 8840, 4819, 2006, 1996, 3898, 2144, 2016, 29176, 3182, 2007, 6175, 3389, 9195, 1006, 1045, 2245, 2016, 2001, 6581, 1999, 2008, 1007, 1010, 1998, 1045, 2064, 1005, 1056, 2360, 1045, 2001, 16668, 7622, 2023, 2051, 2105, 1012, 4998, 2013, 2014, 7887, 5278, 1998, 25012, 2135, 21242, 2606, 3609, 1010, 2016, 2074, 2134, 1005, 1056, 3614, 2995, 2004, 1996, 4845, 2279, 2341, 2040, 2018, 2985, 1037, 6480, 5689, 2105, 2346, 25791, 1012, 2014, 1005, 2342, 2005, 3177, 1005, 2347, 1005, 1056, 6791, 10862, 1999, 1996, 2143, 1011, 3383, 2009, 2001, 6974, 1011, 2016, 2246, 3080, 2084, 2014, 2112, 1010, 1998, 2790, 2000, 2467, 2022, 2559, 2005, 2242, 1006, 1037, 2283, 1029, 5859, 2000, 5620, 1029, 2047, 2173, 2000, 5247, 2769, 1029, 1007, 2125, 2275, 1012, 1045, 2481, 1005, 1056, 2156, 2151, 6370, 2007, 6796, 2146, 1025, 2008, 7472, 2790, 26471, 2012, 2190, 1012, 1996, 2069, 2051, 12110, 2596, 5117, 2001, 2043, 2016, 2001, 21935, 2007, 4717, 14602, 1010, 2040, 1045, 2245, 2001, 23263, 2058, 1996, 2327, 2004, 4763, 2919, 3124, 4440, 7104, 1012, 1026, 7987, 1013, 1028, 1026, 7987, 1013, 1028, 2009, 2001, 2307, 2000, 2156, 12810, 2666, 2153, 1010, 1998, 1045, 3866, 1996, 3185, 17174, 2007, 3430, 2013, 1996, 2214, 5691, 1012, 2065, 6373, 2018, 10538, 2041, 2007, 2070, 2482, 5187, 11912, 1010, 1045, 2453, 2031, 6247, 2070, 2074, 2000, 2022, 8884, 1012, 2010, 2047, 3444, 1006, 1029, 1007, 2001, 1037, 2210, 20316, 1006, 2515, 2002, 3149, 1996, 4301, 1997, 2010, 4062, 1029, 2515, 2002, 2085, 17260, 6277, 1029, 1007, 2021, 3649, 1012, 2057, 2035, 2354, 2129, 2009, 2001, 2183, 2000, 2203, 1010, 2021, 1045, 2079, 4299, 2002, 2018, 3092, 2039, 2007, 2619, 1037, 2210, 2625, 2079, 5051, 2100, 2084, 8538, 1012, 1998, 2026, 2132, 2145, 13403, 2013, 2008, 10800, 8538, 1998, 2057, 7193, 2018, 25756, 2188, 1012, 1026, 7987, 1013, 1028, 1026, 7987, 1013, 1028, 2054, 2052, 2031, 2081, 1996, 3185, 4276, 19927, 1029, 2031, 1996, 2214, 12810, 2666, 1999, 1037, 2613, 2466, 2007, 1037, 2613, 5436, 1011, 2012, 1996, 2200, 2560, 1010, 12810, 2666, 1005, 1055, 2004, 2204, 2004, 27333, 2666, 1011, 2021, 4415, 2008, 1005, 1055, 4851, 2205, 2172, 1012, 2339, 2003, 2009, 2008, 6373, 2467, 3632, 2067, 2000, 1996, 2168, 2092, 2004, 1000, 12810, 2666, 3632, 26191, 1000, 1998, 1000, 1996, 3274, 2008, 5078, 5093, 6007, 1000, 2043, 2009, 3310, 2000, 8144], 'label': 'neg'}\n"
     ]
    }
   ],
   "source": [
    "print(vars(train_data.examples[10]))"
   ]
  },
  {
   "cell_type": "code",
   "execution_count": 20,
   "id": "9dde7c06",
   "metadata": {},
   "outputs": [
    {
     "name": "stdout",
     "output_type": "stream",
     "text": [
      "['so', ',', 'back', 'when', 'herb', '##ie', 'made', 'his', 'first', 'appearance', ',', 'i', 'was', 'perfectly', 'happy', 'watching', 'dean', 'jones', 'mug', 'away', '.', 'i', 'only', 'wanted', 'to', 'be', 'entertained', 'for', 'a', 'few', 'hours', 'and', 'eat', 'overly', 'butter', '##ed', 'popcorn', '.', 'now', ',', 'unfortunately', ',', 'i', 'have', 'expectations', 'of', 'a', 'ri', '##vet', '##ing', '/', 'delightful', 'story', 'whenever', 'i', 'watch', 'a', 'movie', ',', 'if', 'i', \"'\", 'm', 'not', 'on', 'some', 'sort', 'of', 'medication', '.', 'and', 'this', 'is', 'another', 'good', 'movie', 'for', 'the', 'med', '##icated', '.', 'there', 'are', 'no', 'major', 'laughs', ',', 'no', 'complex', 'plot', 'lines', ',', 'no', 'difficult', 'twists', '.', 'herb', '##ie', 'fully', 'loaded', 'is', 'great', 'for', 'the', 'fully', 'loaded', '.', '<', 'br', '/', '>', '<', 'br', '/', '>', 'this', 'was', 'the', 'first', 'time', 'i', 'had', 'seen', 'la', 'lo', '##han', 'on', 'the', 'screen', 'since', 'she', 'swapped', 'places', 'with', 'jamie', 'lee', 'curtis', '(', 'i', 'thought', 'she', 'was', 'excellent', 'in', 'that', ')', ',', 'and', 'i', 'can', \"'\", 't', 'say', 'i', 'was', 'terribly', 'impressed', 'this', 'time', 'around', '.', 'aside', 'from', 'her', 'constantly', 'changing', 'and', 'distracting', '##ly', 'unnatural', 'hair', 'color', ',', 'she', 'just', 'didn', \"'\", 't', 'ring', 'true', 'as', 'the', 'kid', 'next', 'door', 'who', 'had', 'spent', 'a', 'lifetime', 'hanging', 'around', 'road', 'racers', '.', 'her', \"'\", 'need', 'for', 'speed', \"'\", 'wasn', \"'\", 't', 'portrayed', 'consistently', 'in', 'the', 'film', '-', 'perhaps', 'it', 'was', 'elsewhere', '-', 'she', 'looked', 'older', 'than', 'her', 'part', ',', 'and', 'seemed', 'to', 'always', 'be', 'looking', 'for', 'something', '(', 'a', 'party', '?', 'designer', 'to', '##gs', '?', 'new', 'place', 'to', 'spend', 'money', '?', ')', 'off', 'set', '.', 'i', 'couldn', \"'\", 't', 'see', 'any', 'chemistry', 'with', 'justin', 'long', ';', 'that', 'romance', 'seemed', 'obligatory', 'at', 'best', '.', 'the', 'only', 'time', 'lindsay', 'appeared', 'engaged', 'was', 'when', 'she', 'was', 'interacting', 'with', 'matt', 'dillon', ',', 'who', 'i', 'thought', 'was', 'appropriately', 'over', 'the', 'top', 'as', 'evil', 'bad', 'guy', 'trip', 'murphy', '.', '<', 'br', '/', '>', '<', 'br', '/', '>', 'it', 'was', 'great', 'to', 'see', 'herb', '##ie', 'again', ',', 'and', 'i', 'loved', 'the', 'movie', 'intro', 'with', 'material', 'from', 'the', 'old', 'movies', '.', 'if', 'disney', 'had', 'popped', 'out', 'with', 'some', 'car', '53', 'jewelry', ',', 'i', 'might', 'have', 'worn', 'some', 'just', 'to', 'be', 'loyal', '.', 'his', 'new', 'feature', '(', '?', ')', 'was', 'a', 'little', 'inconsistent', '(', 'does', 'he', 'channel', 'the', 'thoughts', 'of', 'his', 'driver', '?', 'does', 'he', 'now', 'skate', '##board', '?', ')', 'but', 'whatever', '.', 'we', 'all', 'knew', 'how', 'it', 'was', 'going', 'to', 'end', ',', 'but', 'i', 'do', 'wish', 'he', 'had', 'ended', 'up', 'with', 'someone', 'a', 'little', 'less', 'do', '##pe', '##y', 'than', 'maggie', '.', 'and', 'my', 'head', 'still', 'hurts', 'from', 'that', 'lesson', 'maggie', 'and', 'we', 'viewers', 'had', 'hammered', 'home', '.', '<', 'br', '/', '>', '<', 'br', '/', '>', 'what', 'would', 'have', 'made', 'the', 'movie', 'worth', '##while', '?', 'have', 'the', 'old', 'herb', '##ie', 'in', 'a', 'real', 'story', 'with', 'a', 'real', 'plot', '-', 'at', 'the', 'very', 'least', ',', 'herb', '##ie', \"'\", 's', 'as', 'good', 'as', 'lass', '##ie', '-', 'but', 'clearly', 'that', \"'\", 's', 'asking', 'too', 'much', '.', 'why', 'is', 'it', 'that', 'disney', 'always', 'goes', 'back', 'to', 'the', 'same', 'well', 'as', '\"', 'herb', '##ie', 'goes', 'bananas', '\"', 'and', '\"', 'the', 'computer', 'that', 'wore', 'tennis', 'shoes', '\"', 'when', 'it', 'comes', 'to', 'innovation']\n"
     ]
    }
   ],
   "source": [
    "tokens = tokenizer.convert_ids_to_tokens(vars(train_data.examples[10])['text'])\n",
    "\n",
    "print(tokens)"
   ]
  },
  {
   "cell_type": "code",
   "execution_count": 21,
   "id": "0c2d32e0",
   "metadata": {},
   "outputs": [
    {
     "name": "stdout",
     "output_type": "stream",
     "text": [
      "['so', ',', 'back', 'when', 'herb', '##ie', 'made', 'his', 'first', 'appearance', ',', 'i', 'was', 'perfectly', 'happy', 'watching', 'dean', 'jones', 'mug', 'away', '.', 'i', 'only', 'wanted', 'to', 'be', 'entertained', 'for', 'a', 'few', 'hours', 'and', 'eat', 'overly', 'butter', '##ed', 'popcorn', '.', 'now', ',', 'unfortunately', ',', 'i', 'have', 'expectations', 'of', 'a', 'ri', '##vet', '##ing', '/', 'delightful', 'story', 'whenever', 'i', 'watch', 'a', 'movie', ',', 'if', 'i', \"'\", 'm', 'not', 'on', 'some', 'sort', 'of', 'medication', '.', 'and', 'this', 'is', 'another', 'good', 'movie', 'for', 'the', 'med', '##icated', '.', 'there', 'are', 'no', 'major', 'laughs', ',', 'no', 'complex', 'plot', 'lines', ',', 'no', 'difficult', 'twists', '.', 'herb', '##ie', 'fully', 'loaded', 'is', 'great', 'for', 'the', 'fully', 'loaded', '.', '<', 'br', '/', '>', '<', 'br', '/', '>', 'this', 'was', 'the', 'first', 'time', 'i', 'had', 'seen', 'la', 'lo', '##han', 'on', 'the', 'screen', 'since', 'she', 'swapped', 'places', 'with', 'jamie', 'lee', 'curtis', '(', 'i', 'thought', 'she', 'was', 'excellent', 'in', 'that', ')', ',', 'and', 'i', 'can', \"'\", 't', 'say', 'i', 'was', 'terribly', 'impressed', 'this', 'time', 'around', '.', 'aside', 'from', 'her', 'constantly', 'changing', 'and', 'distracting', '##ly', 'unnatural', 'hair', 'color', ',', 'she', 'just', 'didn', \"'\", 't', 'ring', 'true', 'as', 'the', 'kid', 'next', 'door', 'who', 'had', 'spent', 'a', 'lifetime', 'hanging', 'around', 'road', 'racers', '.', 'her', \"'\", 'need', 'for', 'speed', \"'\", 'wasn', \"'\", 't', 'portrayed', 'consistently', 'in', 'the', 'film', '-', 'perhaps', 'it', 'was', 'elsewhere', '-', 'she', 'looked', 'older', 'than', 'her', 'part', ',', 'and', 'seemed', 'to', 'always', 'be', 'looking', 'for', 'something', '(', 'a', 'party', '?', 'designer', 'to', '##gs', '?', 'new', 'place', 'to', 'spend', 'money', '?', ')', 'off', 'set', '.', 'i', 'couldn', \"'\", 't', 'see', 'any', 'chemistry', 'with', 'justin', 'long', ';', 'that', 'romance', 'seemed', 'obligatory', 'at', 'best', '.', 'the', 'only', 'time', 'lindsay', 'appeared', 'engaged', 'was', 'when', 'she', 'was', 'interacting', 'with', 'matt', 'dillon', ',', 'who', 'i', 'thought', 'was', 'appropriately', 'over', 'the', 'top', 'as', 'evil', 'bad', 'guy', 'trip', 'murphy', '.', '<', 'br', '/', '>', '<', 'br', '/', '>', 'it', 'was', 'great', 'to', 'see', 'herb', '##ie', 'again', ',', 'and', 'i', 'loved', 'the', 'movie', 'intro', 'with', 'material', 'from', 'the', 'old', 'movies', '.', 'if', 'disney', 'had', 'popped', 'out', 'with', 'some', 'car', '53', 'jewelry', ',', 'i', 'might', 'have', 'worn', 'some', 'just', 'to', 'be', 'loyal', '.', 'his', 'new', 'feature', '(', '?', ')', 'was', 'a', 'little', 'inconsistent', '(', 'does', 'he', 'channel', 'the', 'thoughts', 'of', 'his', 'driver', '?', 'does', 'he', 'now', 'skate', '##board', '?', ')', 'but', 'whatever', '.', 'we', 'all', 'knew', 'how', 'it', 'was', 'going', 'to', 'end', ',', 'but', 'i', 'do', 'wish', 'he', 'had', 'ended', 'up', 'with', 'someone', 'a', 'little', 'less', 'do', '##pe', '##y', 'than', 'maggie', '.', 'and', 'my', 'head', 'still', 'hurts', 'from', 'that', 'lesson', 'maggie', 'and', 'we', 'viewers', 'had', 'hammered', 'home', '.', '<', 'br', '/', '>', '<', 'br', '/', '>', 'what', 'would', 'have', 'made', 'the', 'movie', 'worth', '##while', '?', 'have', 'the', 'old', 'herb', '##ie', 'in', 'a', 'real', 'story', 'with', 'a', 'real', 'plot', '-', 'at', 'the', 'very', 'least', ',', 'herb', '##ie', \"'\", 's', 'as', 'good', 'as', 'lass', '##ie', '-', 'but', 'clearly', 'that', \"'\", 's', 'asking', 'too', 'much', '.', 'why', 'is', 'it', 'that', 'disney', 'always', 'goes', 'back', 'to', 'the', 'same', 'well', 'as', '\"', 'herb', '##ie', 'goes', 'bananas', '\"', 'and', '\"', 'the', 'computer', 'that', 'wore', 'tennis', 'shoes', '\"', 'when', 'it', 'comes', 'to', 'innovation']\n"
     ]
    }
   ],
   "source": [
    "tokens = tokenizer.convert_ids_to_tokens(vars(train_data.examples[10])['text'])\n",
    "\n",
    "print(tokens)"
   ]
  },
  {
   "cell_type": "code",
   "execution_count": 25,
   "id": "ea7cfff5",
   "metadata": {},
   "outputs": [],
   "source": [
    "label.build_vocab(train_data)"
   ]
  },
  {
   "cell_type": "code",
   "execution_count": 26,
   "id": "a7784b43",
   "metadata": {},
   "outputs": [
    {
     "name": "stdout",
     "output_type": "stream",
     "text": [
      "defaultdict(None, {'neg': 0, 'pos': 1})\n"
     ]
    }
   ],
   "source": [
    "print(label.vocab.stoi)"
   ]
  },
  {
   "cell_type": "code",
   "execution_count": 27,
   "id": "1459064f",
   "metadata": {},
   "outputs": [],
   "source": [
    "batch_size= 128\n",
    "\n",
    "device = torch.device('cuda' if torch.cuda.is_available() else 'cpu')\n",
    "\n",
    "train_iterator, valid_iterator, test_iterator = data.BucketIterator.splits(\n",
    "    (train_data, valid_data, test_data), \n",
    "    batch_size = batch_size, \n",
    "    device = device)"
   ]
  },
  {
   "cell_type": "code",
   "execution_count": null,
   "id": "5af78133",
   "metadata": {},
   "outputs": [
    {
     "name": "stderr",
     "output_type": "stream",
     "text": [
      "Downloading:  45%|██████████████████████████████▍                                    | 191M/420M [05:11<06:21, 630kB/s]"
     ]
    }
   ],
   "source": [
    "from transformers import AutoTokenizer, AutoModel\n",
    "\n",
    "b_model = AutoModel.from_pretrained(base_model)"
   ]
  },
  {
   "cell_type": "code",
   "execution_count": null,
   "id": "1aac7494",
   "metadata": {},
   "outputs": [],
   "source": [
    "import torch.nn as nn\n",
    "\n",
    "class SentimentAnalyzer(nn.Module):\n",
    "    def __init__(self,\n",
    "                 b_model,\n",
    "                 hidden_dim,\n",
    "                 output_dim,\n",
    "                 n_layers,\n",
    "                 bidirectional,\n",
    "                 dropout):\n",
    "        \n",
    "        super().__init__()\n",
    "        \n",
    "        self.b_model = b_model\n",
    "        \n",
    "        embedding_dim = b_model.config.to_dict()['hidden_size']\n",
    "        \n",
    "        self.rnn = nn.GRU(embedding_dim,\n",
    "                          hidden_dim,\n",
    "                          num_layers = n_layers,\n",
    "                          bidirectional = bidirectional,\n",
    "                          batch_first = True,\n",
    "                          dropout = 0 if n_layers < 2 else dropout)\n",
    "        \n",
    "        self.out = nn.Linear(hidden_dim * 2 if bidirectional else hidden_dim, output_dim)\n",
    "        \n",
    "        self.dropout = nn.Dropout(dropout)\n",
    "        \n",
    "    def forward(self, text):\n",
    "        \n",
    "        #text = [batch size, sent len]\n",
    "                \n",
    "        with torch.no_grad():\n",
    "            embedded = self.b_model(text)[0]\n",
    "                \n",
    "        #embedded = [batch size, sent len, emb dim]\n",
    "        \n",
    "        _, hidden = self.rnn(embedded)\n",
    "        \n",
    "        #hidden = [n layers * n directions, batch size, emb dim]\n",
    "        \n",
    "        if self.rnn.bidirectional:\n",
    "            hidden = self.dropout(torch.cat((hidden[-2,:,:], hidden[-1,:,:]), dim = 1))\n",
    "        else:\n",
    "            hidden = self.dropout(hidden[-1,:,:])\n",
    "                \n",
    "        #hidden = [batch size, hid dim]\n",
    "        \n",
    "        output = self.out(hidden)\n",
    "        \n",
    "        #output = [batch size, out dim]\n",
    "        \n",
    "        return output"
   ]
  },
  {
   "cell_type": "code",
   "execution_count": null,
   "id": "ce310071",
   "metadata": {},
   "outputs": [],
   "source": [
    "hidden_dim = 256\n",
    "op_dim = 1\n",
    "n_layers = 2\n",
    "bidirectional = True\n",
    "dropout = 0.25\n",
    "\n",
    "model = SentimentAnalyzer(b_model,\n",
    "                         hidden_dim,\n",
    "                         op_dim,\n",
    "                         n_layers,\n",
    "                         bidirectional,\n",
    "                         dropout)"
   ]
  },
  {
   "cell_type": "code",
   "execution_count": null,
   "id": "7f85bb95",
   "metadata": {},
   "outputs": [],
   "source": [
    "def count_parameters(model):\n",
    "    return sum(p.numel() for p in model.parameters() if p.requires_grad)\n",
    "\n",
    "print(f'The model has {count_parameters(model):,} trainable parameters')"
   ]
  },
  {
   "cell_type": "code",
   "execution_count": null,
   "id": "203b84ca",
   "metadata": {},
   "outputs": [],
   "source": [
    "for name, param in model.named_parameters():                \n",
    "    if name.startswith('b_model'):\n",
    "        param.requires_grad = False"
   ]
  },
  {
   "cell_type": "code",
   "execution_count": null,
   "id": "01347fab",
   "metadata": {},
   "outputs": [],
   "source": [
    "def count_parameters(model):\n",
    "    return sum(p.numel() for p in model.parameters() if p.requires_grad)\n",
    "\n",
    "print(f'The model has {count_parameters(model):,} trainable parameters')"
   ]
  },
  {
   "cell_type": "code",
   "execution_count": null,
   "id": "3ff2b0f8",
   "metadata": {},
   "outputs": [],
   "source": [
    "for name, param in model.named_parameters():                \n",
    "    if param.requires_grad:\n",
    "        print(name)"
   ]
  },
  {
   "cell_type": "code",
   "execution_count": null,
   "id": "51811796",
   "metadata": {},
   "outputs": [],
   "source": [
    "import torch.optim as optim\n",
    "\n",
    "optimizer = optim.Adam(model.parameters())"
   ]
  },
  {
   "cell_type": "code",
   "execution_count": null,
   "id": "ecc8d3dc",
   "metadata": {},
   "outputs": [],
   "source": [
    "criterion = nn.BCEWithLogitsLoss()"
   ]
  },
  {
   "cell_type": "code",
   "execution_count": null,
   "id": "17f83abf",
   "metadata": {},
   "outputs": [],
   "source": [
    "model = model.to(device)\n",
    "criterion = criterion.to(device)"
   ]
  },
  {
   "cell_type": "code",
   "execution_count": null,
   "id": "f2974767",
   "metadata": {},
   "outputs": [],
   "source": [
    "def binary_accuracy(preds, y):\n",
    "    \"\"\"\n",
    "    Returns accuracy per batch, i.e. if you get 8/10 right, this returns 0.8, NOT 8\n",
    "    \"\"\"\n",
    "\n",
    "    #round predictions to the closest integer\n",
    "    rounded_preds = torch.round(torch.sigmoid(preds))\n",
    "    correct = (rounded_preds == y).float() #convert into float for division \n",
    "    acc = correct.sum() / len(correct)\n",
    "    return acc"
   ]
  },
  {
   "cell_type": "code",
   "execution_count": null,
   "id": "53b9aba5",
   "metadata": {},
   "outputs": [],
   "source": [
    "def train(model, iterator, optimizer, criterion):\n",
    "    \n",
    "    epoch_loss = 0\n",
    "    epoch_acc = 0\n",
    "    \n",
    "    model.train()\n",
    "    \n",
    "    for batch in iterator:\n",
    "        \n",
    "        optimizer.zero_grad()\n",
    "        \n",
    "        predictions = model(batch.text).squeeze(1)\n",
    "        \n",
    "        loss = criterion(predictions, batch.label)\n",
    "        \n",
    "        acc = binary_accuracy(predictions, batch.label)\n",
    "        \n",
    "        loss.backward()\n",
    "        \n",
    "        optimizer.step()\n",
    "        \n",
    "        epoch_loss += loss.item()\n",
    "        epoch_acc += acc.item()\n",
    "        \n",
    "    return epoch_loss / len(iterator), epoch_acc / len(iterator)"
   ]
  },
  {
   "cell_type": "code",
   "execution_count": null,
   "id": "5160519b",
   "metadata": {},
   "outputs": [],
   "source": [
    "def evaluate(model, iterator, criterion):\n",
    "    \n",
    "    epoch_loss = 0\n",
    "    epoch_acc = 0\n",
    "    \n",
    "    model.eval()\n",
    "    \n",
    "    with torch.no_grad():\n",
    "    \n",
    "        for batch in iterator:\n",
    "\n",
    "            predictions = model(batch.text).squeeze(1)\n",
    "            \n",
    "            loss = criterion(predictions, batch.label)\n",
    "            \n",
    "            acc = binary_accuracy(predictions, batch.label)\n",
    "\n",
    "            epoch_loss += loss.item()\n",
    "            epoch_acc += acc.item()\n",
    "        \n",
    "    return epoch_loss / len(iterator), epoch_acc / len(iterator)"
   ]
  },
  {
   "cell_type": "code",
   "execution_count": null,
   "id": "cba1a6f1",
   "metadata": {},
   "outputs": [],
   "source": [
    "import time\n",
    "\n",
    "def epoch_time(start_time, end_time):\n",
    "    elapsed_time = end_time - start_time\n",
    "    elapsed_mins = int(elapsed_time / 60)\n",
    "    elapsed_secs = int(elapsed_time - (elapsed_mins * 60))\n",
    "    return elapsed_mins, elapsed_secs"
   ]
  },
  {
   "cell_type": "code",
   "execution_count": null,
   "id": "25103a51",
   "metadata": {},
   "outputs": [],
   "source": [
    "epochs = 3\n",
    "\n",
    "best_valid_loss = float('inf')\n",
    "\n",
    "for epoch in range(epochs):\n",
    "    \n",
    "    start_time = time.time()\n",
    "    \n",
    "    train_loss, train_acc = train(model, train_iterator, optimizer, criterion)\n",
    "    valid_loss, valid_acc = evaluate(model, valid_iterator, criterion)\n",
    "        \n",
    "    end_time = time.time()\n",
    "        \n",
    "    epoch_mins, epoch_secs = epoch_time(start_time, end_time)\n",
    "        \n",
    "    if valid_loss < best_valid_loss:\n",
    "        best_valid_loss = valid_loss\n",
    "        torch.save(model.state_dict(), 'dev-model.pt')\n",
    "    \n",
    "    print(f'Epoch: {epoch+1:02} | Epoch Time: {epoch_mins}m {epoch_secs}s')\n",
    "    print(f'\\tTrain Loss: {train_loss:.3f} | Train Acc: {train_acc*100:.2f}%')\n",
    "    print(f'\\t Val. Loss: {valid_loss:.3f} |  Val. Acc: {valid_acc*100:.2f}%')"
   ]
  },
  {
   "cell_type": "code",
   "execution_count": null,
   "id": "86574ea6",
   "metadata": {},
   "outputs": [],
   "source": [
    "test_loss, test_acc = evaluate(model, test_iterator, criterion)\n",
    "\n",
    "print(f'Test Loss: {test_loss:.3f} | Test Acc: {test_acc*100:.2f}%')"
   ]
  },
  {
   "cell_type": "code",
   "execution_count": null,
   "id": "1b0f9d62",
   "metadata": {},
   "outputs": [],
   "source": [
    "def predict_sentiment(model, tokenizer, sentence):\n",
    "    model.eval()\n",
    "    tokens = tokenizer.tokenize(sentence)\n",
    "    tokens = tokens[:max_input_length-2]\n",
    "    indexed = [init_token_idx] + tokenizer.convert_tokens_to_ids(tokens) + [eos_token_idx]\n",
    "    tensor = torch.LongTensor(indexed).to(device)\n",
    "    tensor = tensor.unsqueeze(0)\n",
    "    prediction = torch.sigmoid(model(tensor))\n",
    "    return prediction.item()"
   ]
  },
  {
   "cell_type": "code",
   "execution_count": null,
   "id": "6814426e",
   "metadata": {},
   "outputs": [],
   "source": [
    "hidden_dim = 256\n",
    "op_dim = 1\n",
    "n_layers = 2\n",
    "bidirectional = True\n",
    "dropout = 0.25\n",
    "\n",
    "model = SentimentAnalyzer(b_model,\n",
    "                         hidden_dim,\n",
    "                         op_dim,\n",
    "                         n_layers,\n",
    "                         bidirectional,\n",
    "                         dropout)"
   ]
  },
  {
   "cell_type": "code",
   "execution_count": null,
   "id": "61d5fd64",
   "metadata": {},
   "outputs": [],
   "source": [
    "model.load_state_dict(torch.load('dev-model.pt'))\n",
    "model.to(device)"
   ]
  },
  {
   "cell_type": "code",
   "execution_count": null,
   "id": "508c236e",
   "metadata": {},
   "outputs": [],
   "source": [
    "predict_sentiment(model, tokenizer, \"This workshop is awesome\")"
   ]
  },
  {
   "cell_type": "code",
   "execution_count": null,
   "id": "1538b5f3",
   "metadata": {},
   "outputs": [],
   "source": [
    "predict_sentiment(model, tokenizer, \"This workshop is boring\")"
   ]
  },
  {
   "cell_type": "code",
   "execution_count": null,
   "id": "36ec1b5f",
   "metadata": {},
   "outputs": [],
   "source": []
  },
  {
   "cell_type": "code",
   "execution_count": null,
   "id": "9b885e20",
   "metadata": {},
   "outputs": [],
   "source": []
  }
 ],
 "metadata": {
  "kernelspec": {
   "display_name": "bert_env",
   "language": "python",
   "name": "bert_env"
  },
  "language_info": {
   "codemirror_mode": {
    "name": "ipython",
    "version": 3
   },
   "file_extension": ".py",
   "mimetype": "text/x-python",
   "name": "python",
   "nbconvert_exporter": "python",
   "pygments_lexer": "ipython3",
   "version": "3.10.0"
  }
 },
 "nbformat": 4,
 "nbformat_minor": 5
}
